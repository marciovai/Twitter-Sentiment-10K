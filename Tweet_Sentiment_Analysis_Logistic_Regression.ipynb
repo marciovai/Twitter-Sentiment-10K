{
  "nbformat": 4,
  "nbformat_minor": 0,
  "metadata": {
    "colab": {
      "name": "Tweet_Sentiment_Analysis_Logistic_Regression.ipynb",
      "provenance": [],
      "collapsed_sections": []
    },
    "kernelspec": {
      "name": "python3",
      "display_name": "Python 3"
    }
  },
  "cells": [
    {
      "cell_type": "code",
      "metadata": {
        "id": "RSnkiEp7kPvc",
        "colab_type": "code",
        "colab": {
          "base_uri": "https://localhost:8080/",
          "height": 119
        },
        "outputId": "6756cebc-793c-4e89-c058-98b8aa5614f6"
      },
      "source": [
        "# get dataset from GitHub\n",
        "!git clone https://github.com/marciovai/Twitter-Sentiment-10K.git"
      ],
      "execution_count": null,
      "outputs": [
        {
          "output_type": "stream",
          "text": [
            "Cloning into 'Twitter-Sentiment-10K'...\n",
            "remote: Enumerating objects: 7, done.\u001b[K\n",
            "remote: Counting objects: 100% (7/7), done.\u001b[K\n",
            "remote: Compressing objects: 100% (7/7), done.\u001b[K\n",
            "remote: Total 7 (delta 1), reused 0 (delta 0), pack-reused 0\u001b[K\n",
            "Unpacking objects: 100% (7/7), done.\n"
          ],
          "name": "stdout"
        }
      ]
    },
    {
      "cell_type": "code",
      "metadata": {
        "id": "fCaUA1dpPJjp",
        "colab_type": "code",
        "colab": {}
      },
      "source": [
        "# import libraries\n",
        "import pandas as pd\n",
        "import numpy as np\n",
        "import nltk\n",
        "from nltk.corpus import stopwords\n",
        "from nltk.tokenize import word_tokenize\n",
        "from nltk.stem import PorterStemmer\n",
        "from sklearn.linear_model import LinearRegression\n",
        "from sklearn.metrics import log_loss, accuracy_score\n",
        "import joblib\n",
        "import re"
      ],
      "execution_count": null,
      "outputs": []
    },
    {
      "cell_type": "code",
      "metadata": {
        "id": "PYPiKOs1kCfZ",
        "colab_type": "code",
        "colab": {}
      },
      "source": [
        "# load data\n",
        "data = pd.read_csv(\"Twitter-Sentiment-10K/tweet_sentiment_10K.csv\") "
      ],
      "execution_count": null,
      "outputs": []
    },
    {
      "cell_type": "code",
      "metadata": {
        "id": "K9j3kuxSkFEf",
        "colab_type": "code",
        "colab": {
          "base_uri": "https://localhost:8080/",
          "height": 204
        },
        "outputId": "3d93669c-ab5e-46d6-bd95-4ac48d9eb9b1"
      },
      "source": [
        "data.head()"
      ],
      "execution_count": null,
      "outputs": [
        {
          "output_type": "execute_result",
          "data": {
            "text/html": [
              "<div>\n",
              "<style scoped>\n",
              "    .dataframe tbody tr th:only-of-type {\n",
              "        vertical-align: middle;\n",
              "    }\n",
              "\n",
              "    .dataframe tbody tr th {\n",
              "        vertical-align: top;\n",
              "    }\n",
              "\n",
              "    .dataframe thead th {\n",
              "        text-align: right;\n",
              "    }\n",
              "</style>\n",
              "<table border=\"1\" class=\"dataframe\">\n",
              "  <thead>\n",
              "    <tr style=\"text-align: right;\">\n",
              "      <th></th>\n",
              "      <th>id</th>\n",
              "      <th>date</th>\n",
              "      <th>text</th>\n",
              "      <th>target</th>\n",
              "    </tr>\n",
              "  </thead>\n",
              "  <tbody>\n",
              "    <tr>\n",
              "      <th>0</th>\n",
              "      <td>0</td>\n",
              "      <td>2009-06-20</td>\n",
              "      <td>My concealer just broke!</td>\n",
              "      <td>0</td>\n",
              "    </tr>\n",
              "    <tr>\n",
              "      <th>1</th>\n",
              "      <td>1</td>\n",
              "      <td>2009-06-21</td>\n",
              "      <td>Mommy leaves soon</td>\n",
              "      <td>0</td>\n",
              "    </tr>\n",
              "    <tr>\n",
              "      <th>2</th>\n",
              "      <td>2</td>\n",
              "      <td>2009-06-03</td>\n",
              "      <td>@Boogaloo1 Not here it ain't!  I've got an epi...</td>\n",
              "      <td>0</td>\n",
              "    </tr>\n",
              "    <tr>\n",
              "      <th>3</th>\n",
              "      <td>3</td>\n",
              "      <td>2009-06-16</td>\n",
              "      <td>I want my Blackberry back!!</td>\n",
              "      <td>0</td>\n",
              "    </tr>\n",
              "    <tr>\n",
              "      <th>4</th>\n",
              "      <td>4</td>\n",
              "      <td>2009-06-16</td>\n",
              "      <td>@Veganluke I can't even skype  still dont have...</td>\n",
              "      <td>0</td>\n",
              "    </tr>\n",
              "  </tbody>\n",
              "</table>\n",
              "</div>"
            ],
            "text/plain": [
              "   id        date                                               text  target\n",
              "0   0  2009-06-20                          My concealer just broke!        0\n",
              "1   1  2009-06-21                                 Mommy leaves soon        0\n",
              "2   2  2009-06-03  @Boogaloo1 Not here it ain't!  I've got an epi...       0\n",
              "3   3  2009-06-16                       I want my Blackberry back!!        0\n",
              "4   4  2009-06-16  @Veganluke I can't even skype  still dont have...       0"
            ]
          },
          "metadata": {
            "tags": []
          },
          "execution_count": 4
        }
      ]
    },
    {
      "cell_type": "code",
      "metadata": {
        "id": "GxtOZ4pKkFe6",
        "colab_type": "code",
        "colab": {
          "base_uri": "https://localhost:8080/",
          "height": 85
        },
        "outputId": "4587f192-ff6d-422a-8124-a233e1c45b09"
      },
      "source": [
        "# load list of stopwords from NLTK\n",
        "nltk.download('stopwords')\n",
        "nltk.download('punkt')\n",
        "\n",
        "# save stopwords in a Python set\n",
        "stop_words = set(stopwords.words('english')) "
      ],
      "execution_count": null,
      "outputs": [
        {
          "output_type": "stream",
          "text": [
            "[nltk_data] Downloading package stopwords to /root/nltk_data...\n",
            "[nltk_data]   Unzipping corpora/stopwords.zip.\n",
            "[nltk_data] Downloading package punkt to /root/nltk_data...\n",
            "[nltk_data]   Unzipping tokenizers/punkt.zip.\n"
          ],
          "name": "stdout"
        }
      ]
    },
    {
      "cell_type": "code",
      "metadata": {
        "id": "Grf-rSQmkGQc",
        "colab_type": "code",
        "colab": {}
      },
      "source": [
        "# separate data into train and test sets\n",
        "pos = data[data['target']==1]\n",
        "neg = data[data['target']==0]\n",
        "\n",
        "# tweet corpus is equally split in 8000 train, 2000 test\n",
        "train_neg = neg[0:4000]\n",
        "train_pos = pos[0:4000]\n",
        "\n",
        "test_neg = neg[4000:]\n",
        "test_pos = pos[4000:]\n",
        "\n",
        "train = train_neg.append(train_pos)\n",
        "test = test_neg.append(test_pos)\n",
        "\n",
        "del pos, neg, train_pos, train_neg, test_pos, test_neg"
      ],
      "execution_count": null,
      "outputs": []
    },
    {
      "cell_type": "code",
      "metadata": {
        "id": "3uaqiL4yAQhg",
        "colab_type": "code",
        "colab": {}
      },
      "source": [
        "def process_tweet(tweet, stop_words):\n",
        "\n",
        "  # remove URLs from the tweet\n",
        "  tweet = re.sub(r\"http\\S+\", \"\", tweet)\n",
        "\n",
        "  # remove punctuation\n",
        "  tweet = re.sub(r'[^\\w\\s]','', tweet)\n",
        "\n",
        "  # tokenize tweet (transform from string into list of word)\n",
        "  tweet = word_tokenize(tweet) \n",
        "\n",
        "  # remove stop words using the set() imported from NTLK\n",
        "  tweet = [word for word in tweet if word not in stop_words]\n",
        "\n",
        "  # apply stemming on the tweet\n",
        "  ps = PorterStemmer() \n",
        "  tweet = [ps.stem(word) for word in tweet]\n",
        "\n",
        "  # lowercase all words in the tweet\n",
        "  tweet = [word.lower() for word in tweet]\n",
        "\n",
        "  return tweet"
      ],
      "execution_count": null,
      "outputs": []
    },
    {
      "cell_type": "code",
      "metadata": {
        "id": "y6kRy0TBB7yi",
        "colab_type": "code",
        "colab": {}
      },
      "source": [
        "# dict to store processed tweets\n",
        "train_tweets_dict = {}\n",
        "\n",
        "# iterate over each train row, call process(tweet) and save it on tweets_dict\n",
        "for index, row in train.iterrows():\n",
        "  tweet_id = row['id']\n",
        "  tweet = row['text']\n",
        "  tweet = process_tweet(tweet, stop_words)\n",
        "  train_tweets_dict.update({tweet_id:tweet})"
      ],
      "execution_count": null,
      "outputs": []
    },
    {
      "cell_type": "code",
      "metadata": {
        "id": "k5HxTUiBbtiT",
        "colab_type": "code",
        "colab": {}
      },
      "source": [
        "# create dictionary of word frequencies on positive and negative tweets \n",
        "\n",
        "# get vocabulary for unique all words in the tweets\n",
        "word_vocab = []\n",
        "for id, tweet in train_tweets_dict.items():\n",
        "  word_vocab = word_vocab + tweet\n",
        "\n",
        "# remove duplicate words by creating a set from the initial list\n",
        "word_vocab = set(word_vocab)\n",
        "\n",
        "# create dict out of vocab in the format of {(word, 0): count, (word, 1): count}\n",
        "# to get the counts of words appearance in both positive and negative tweets\n",
        "word_vocab_dict = {}\n",
        "for word in word_vocab:\n",
        "  word_vocab_dict[(word, 0)] = 0\n",
        "  word_vocab_dict[(word, 1)] = 0\n",
        "\n",
        "# compute word counts across all tweets and store in word_vocab_dict\n",
        "for id, tweet in train_tweets_dict.items():\n",
        "  tweet_label = train[train['id']==id].target.values[0]\n",
        "  for word in tweet:\n",
        "    word_vocab_dict[(word, tweet_label)] += 1"
      ],
      "execution_count": null,
      "outputs": []
    },
    {
      "cell_type": "code",
      "metadata": {
        "id": "elfAr8T1eodC",
        "colab_type": "code",
        "colab": {}
      },
      "source": [
        "def get_tweet_word_frequencies(word_vocab_dict, tweet_text):\n",
        "  # initialize total frequency variables\n",
        "  pos_total_freq = 0\n",
        "  neg_total_freq = 0\n",
        "\n",
        "  for word in tweet_text:\n",
        "    # for each word in the tweet, get its positive and negative frequency\n",
        "    neg_freq = word_vocab_dict.get((word, 0), 0)\n",
        "    pos_freq = word_vocab_dict.get((word, 1), 0)\n",
        "\n",
        "    # sum positive and negative frequencies of current word to running total\n",
        "    neg_total_freq+=neg_freq\n",
        "    pos_total_freq+=pos_freq\n",
        "\n",
        "  return [neg_total_freq, pos_total_freq]"
      ],
      "execution_count": null,
      "outputs": []
    },
    {
      "cell_type": "code",
      "metadata": {
        "id": "n4gJQf2FhY8o",
        "colab_type": "code",
        "colab": {}
      },
      "source": [
        "# call get_tweet_word_frequencies() and store results in a DataFrame\n",
        "train_df = pd.DataFrame()\n",
        "for id, tweet in train_tweets_dict.items():\n",
        "  tweet_features = get_tweet_word_frequencies(word_vocab_dict, tweet)\n",
        "  label = train[train['id']==id].target.values[0]\n",
        "  train_df = train_df.append({'id': id, \n",
        "                   'neg_freq': tweet_features[0], \n",
        "                   'pos_freq':tweet_features[1],\n",
        "                   'target': label}, ignore_index=True)"
      ],
      "execution_count": null,
      "outputs": []
    },
    {
      "cell_type": "code",
      "metadata": {
        "id": "5rgezZ3gqtXN",
        "colab_type": "code",
        "colab": {
          "base_uri": "https://localhost:8080/",
          "height": 204
        },
        "outputId": "7c1c1052-4b96-4984-fad7-1051bbb4a542"
      },
      "source": [
        "train_df.head()"
      ],
      "execution_count": null,
      "outputs": [
        {
          "output_type": "execute_result",
          "data": {
            "text/html": [
              "<div>\n",
              "<style scoped>\n",
              "    .dataframe tbody tr th:only-of-type {\n",
              "        vertical-align: middle;\n",
              "    }\n",
              "\n",
              "    .dataframe tbody tr th {\n",
              "        vertical-align: top;\n",
              "    }\n",
              "\n",
              "    .dataframe thead th {\n",
              "        text-align: right;\n",
              "    }\n",
              "</style>\n",
              "<table border=\"1\" class=\"dataframe\">\n",
              "  <thead>\n",
              "    <tr style=\"text-align: right;\">\n",
              "      <th></th>\n",
              "      <th>id</th>\n",
              "      <th>neg_freq</th>\n",
              "      <th>pos_freq</th>\n",
              "      <th>target</th>\n",
              "    </tr>\n",
              "  </thead>\n",
              "  <tbody>\n",
              "    <tr>\n",
              "      <th>0</th>\n",
              "      <td>0.0</td>\n",
              "      <td>113.0</td>\n",
              "      <td>62.0</td>\n",
              "      <td>0.0</td>\n",
              "    </tr>\n",
              "    <tr>\n",
              "      <th>1</th>\n",
              "      <td>1.0</td>\n",
              "      <td>94.0</td>\n",
              "      <td>64.0</td>\n",
              "      <td>0.0</td>\n",
              "    </tr>\n",
              "    <tr>\n",
              "      <th>2</th>\n",
              "      <td>2.0</td>\n",
              "      <td>453.0</td>\n",
              "      <td>374.0</td>\n",
              "      <td>0.0</td>\n",
              "    </tr>\n",
              "    <tr>\n",
              "      <th>3</th>\n",
              "      <td>3.0</td>\n",
              "      <td>1825.0</td>\n",
              "      <td>1175.0</td>\n",
              "      <td>0.0</td>\n",
              "    </tr>\n",
              "    <tr>\n",
              "      <th>4</th>\n",
              "      <td>4.0</td>\n",
              "      <td>2202.0</td>\n",
              "      <td>1334.0</td>\n",
              "      <td>0.0</td>\n",
              "    </tr>\n",
              "  </tbody>\n",
              "</table>\n",
              "</div>"
            ],
            "text/plain": [
              "    id  neg_freq  pos_freq  target\n",
              "0  0.0     113.0      62.0     0.0\n",
              "1  1.0      94.0      64.0     0.0\n",
              "2  2.0     453.0     374.0     0.0\n",
              "3  3.0    1825.0    1175.0     0.0\n",
              "4  4.0    2202.0    1334.0     0.0"
            ]
          },
          "metadata": {
            "tags": []
          },
          "execution_count": 12
        }
      ]
    },
    {
      "cell_type": "code",
      "metadata": {
        "id": "9xnj-nBirZBI",
        "colab_type": "code",
        "colab": {
          "base_uri": "https://localhost:8080/",
          "height": 34
        },
        "outputId": "7ff3610e-2f6a-479c-99d0-3796d2271a93"
      },
      "source": [
        "# get the dataset X and Y and call fit() on LinearRegression\n",
        "train_x = train_df[['neg_freq', 'pos_freq']].values\n",
        "train_y = train_df[['target']].values\n",
        "model = LinearRegression()\n",
        "model.fit(train_x, train_y)"
      ],
      "execution_count": null,
      "outputs": [
        {
          "output_type": "execute_result",
          "data": {
            "text/plain": [
              "LinearRegression(copy_X=True, fit_intercept=True, n_jobs=None, normalize=False)"
            ]
          },
          "metadata": {
            "tags": []
          },
          "execution_count": 13
        }
      ]
    },
    {
      "cell_type": "code",
      "metadata": {
        "id": "IhlTM5KSswbX",
        "colab_type": "code",
        "colab": {}
      },
      "source": [
        "# prepare test data\n",
        "\n",
        "# dict to store processed tweets\n",
        "test_tweets_dict = {}\n",
        "\n",
        "# iterate over each train row, call process(tweet) and save it on tweets_dict\n",
        "for index, row in test.iterrows():\n",
        "  tweet_id = row['id']\n",
        "  tweet = row['text']\n",
        "  tweet = process_tweet(tweet, stop_words)\n",
        "  test_tweets_dict.update({tweet_id:tweet})\n",
        "\n",
        "# call get_tweet_word_frequencies() and store results in a DataFrame\n",
        "test_df = pd.DataFrame()\n",
        "for id, tweet in test_tweets_dict.items():\n",
        "  tweet_features = get_tweet_word_frequencies(word_vocab_dict, tweet)\n",
        "  label = test[test['id']==id].target.values[0]\n",
        "  test_df = test_df.append({'id': id, \n",
        "                   'neg_freq': tweet_features[0], \n",
        "                   'pos_freq':tweet_features[1],\n",
        "                   'target': label}, ignore_index=True)"
      ],
      "execution_count": null,
      "outputs": []
    },
    {
      "cell_type": "code",
      "metadata": {
        "id": "UTCP25Z2tsU1",
        "colab_type": "code",
        "colab": {
          "base_uri": "https://localhost:8080/",
          "height": 51
        },
        "outputId": "fa0de586-9de2-4b7a-d962-b0221c8c3914"
      },
      "source": [
        "test_x = test_df[['neg_freq', 'pos_freq']].values\n",
        "test_y = test_df[['target']].values\n",
        "\n",
        "test_pred = model.predict(test_x)\n",
        "\n",
        "print(\"Log loss: {}\".format(log_loss(test_y, test_pred)))\n",
        "\n",
        "print(\"Accuracy: {}\".format(accuracy_score(test_y, test_pred.round())))"
      ],
      "execution_count": null,
      "outputs": [
        {
          "output_type": "stream",
          "text": [
            "Log loss: 0.687854458360648\n",
            "Accuracy: 0.649\n"
          ],
          "name": "stdout"
        }
      ]
    },
    {
      "cell_type": "code",
      "metadata": {
        "id": "ngW0-ahlwCRk",
        "colab_type": "code",
        "colab": {
          "base_uri": "https://localhost:8080/",
          "height": 34
        },
        "outputId": "ef0d9bf6-2375-42f0-8193-086a82d7ae45"
      },
      "source": [
        "# save model on a serialized file with joblib\n",
        "joblib.dump(model, 'tweet_sentiment_logistic_v1.joblib')\n",
        "\n",
        "# save vocabulary dictionary on a serialized file with joblib\n",
        "joblib.dump(word_vocab_dict, 'word_vocab_dict_v1.joblib')"
      ],
      "execution_count": null,
      "outputs": [
        {
          "output_type": "execute_result",
          "data": {
            "text/plain": [
              "['word_vocab_dict_v1.joblib']"
            ]
          },
          "metadata": {
            "tags": []
          },
          "execution_count": 17
        }
      ]
    },
    {
      "cell_type": "code",
      "metadata": {
        "id": "1fzhMcA_CrrL",
        "colab_type": "code",
        "colab": {}
      },
      "source": [
        "### TEST PREDICT ###\n",
        "\n",
        "predict_data = [test.text.values[0], test.text.values[1]]\n",
        "\n",
        "# dict to store processed tweets\n",
        "predict_tweets_list = []\n",
        "\n",
        "# iterate over each row, call process(tweet) and save it on predict_tweets_list\n",
        "for tweet in predict_data:\n",
        "  tweet = process_tweet(tweet, stop_words)\n",
        "  predict_tweets_list.append(tweet)\n",
        "\n",
        "# call get_tweet_word_frequencies() and store results in a DataFrame\n",
        "predict_ar = np.array([])\n",
        "for tweet in predict_tweets_list:\n",
        "  tweet_features = get_tweet_word_frequencies(word_vocab_dict, tweet)\n",
        "  predict_ar = np.concatenate((predict_ar, np.array(tweet_features)))\n",
        "\n",
        "# making sure our data is shape (tweet_features, tweets)\n",
        "predict_ar = predict_ar.reshape(len(predict_tweets_list), 2)"
      ],
      "execution_count": null,
      "outputs": []
    },
    {
      "cell_type": "code",
      "metadata": {
        "id": "KwzbNNrpGZru",
        "colab_type": "code",
        "colab": {}
      },
      "source": [
        "test_pred = model.predict(predict_ar)"
      ],
      "execution_count": null,
      "outputs": []
    },
    {
      "cell_type": "code",
      "metadata": {
        "id": "AAJEKfA-Gb5N",
        "colab_type": "code",
        "colab": {
          "base_uri": "https://localhost:8080/",
          "height": 51
        },
        "outputId": "8ca1a8a9-821a-4d77-c068-8a900948ecb2"
      },
      "source": [
        "test_pred"
      ],
      "execution_count": null,
      "outputs": [
        {
          "output_type": "execute_result",
          "data": {
            "text/plain": [
              "array([[0.41133504],\n",
              "       [0.39934264]])"
            ]
          },
          "metadata": {
            "tags": []
          },
          "execution_count": 21
        }
      ]
    },
    {
      "cell_type": "code",
      "metadata": {
        "id": "gv1rhe2mdSl7",
        "colab_type": "code",
        "colab": {
          "base_uri": "https://localhost:8080/",
          "height": 34
        },
        "outputId": "6227fdd5-2a79-4c8a-c3b5-6c739d955118"
      },
      "source": [
        "prediction = (test_pred>= 0.5).astype(int)\n",
        "prediction.ravel()"
      ],
      "execution_count": null,
      "outputs": [
        {
          "output_type": "execute_result",
          "data": {
            "text/plain": [
              "array([0, 0])"
            ]
          },
          "metadata": {
            "tags": []
          },
          "execution_count": 22
        }
      ]
    },
    {
      "cell_type": "code",
      "metadata": {
        "id": "XWWhVXp3Gg7l",
        "colab_type": "code",
        "colab": {
          "base_uri": "https://localhost:8080/",
          "height": 221
        },
        "outputId": "c5e8a4ec-4627-47f4-e886-53fcc623b62f"
      },
      "source": [
        "predict_tweets_list"
      ],
      "execution_count": null,
      "outputs": [
        {
          "output_type": "execute_result",
          "data": {
            "text/plain": [
              "[['ohhhhhhhhhhh', 'go', 'away', 'rain', 'pleas', 'go', 'away'],\n",
              " ['that',\n",
              "  'stuff',\n",
              "  'strongita',\n",
              "  'make',\n",
              "  'feel',\n",
              "  'sick',\n",
              "  'for',\n",
              "  'sure',\n",
              "  'go',\n",
              "  'work',\n",
              "  'tomorrow']]"
            ]
          },
          "metadata": {
            "tags": []
          },
          "execution_count": 68
        }
      ]
    },
    {
      "cell_type": "code",
      "metadata": {
        "id": "qYtQUtiPZ52v",
        "colab_type": "code",
        "colab": {
          "base_uri": "https://localhost:8080/",
          "height": 51
        },
        "outputId": "0d02d687-7ded-45d7-dae3-aa57d5aa5920"
      },
      "source": [
        "from google.colab import files\n",
        "files.download('tweet_sentiment_logistic_v1.joblib')\n",
        "files.download('word_vocab_dict_v1.joblib') "
      ],
      "execution_count": null,
      "outputs": [
        {
          "output_type": "display_data",
          "data": {
            "application/javascript": [
              "\n",
              "    async function download(id, filename, size) {\n",
              "      if (!google.colab.kernel.accessAllowed) {\n",
              "        return;\n",
              "      }\n",
              "      const div = document.createElement('div');\n",
              "      const label = document.createElement('label');\n",
              "      label.textContent = `Downloading \"${filename}\": `;\n",
              "      div.appendChild(label);\n",
              "      const progress = document.createElement('progress');\n",
              "      progress.max = size;\n",
              "      div.appendChild(progress);\n",
              "      document.body.appendChild(div);\n",
              "\n",
              "      const buffers = [];\n",
              "      let downloaded = 0;\n",
              "\n",
              "      const channel = await google.colab.kernel.comms.open(id);\n",
              "      // Send a message to notify the kernel that we're ready.\n",
              "      channel.send({})\n",
              "\n",
              "      for await (const message of channel.messages) {\n",
              "        // Send a message to notify the kernel that we're ready.\n",
              "        channel.send({})\n",
              "        if (message.buffers) {\n",
              "          for (const buffer of message.buffers) {\n",
              "            buffers.push(buffer);\n",
              "            downloaded += buffer.byteLength;\n",
              "            progress.value = downloaded;\n",
              "          }\n",
              "        }\n",
              "      }\n",
              "      const blob = new Blob(buffers, {type: 'application/binary'});\n",
              "      const a = document.createElement('a');\n",
              "      a.href = window.URL.createObjectURL(blob);\n",
              "      a.download = filename;\n",
              "      div.appendChild(a);\n",
              "      a.click();\n",
              "      div.remove();\n",
              "    }\n",
              "  "
            ],
            "text/plain": [
              "<IPython.core.display.Javascript object>"
            ]
          },
          "metadata": {
            "tags": []
          }
        },
        {
          "output_type": "display_data",
          "data": {
            "application/javascript": [
              "download(\"download_cfcab7ff-89d2-47fa-9aed-b5e8f064b5f9\", \"tweet_sentiment_logistic_v1.joblib\", 609)"
            ],
            "text/plain": [
              "<IPython.core.display.Javascript object>"
            ]
          },
          "metadata": {
            "tags": []
          }
        },
        {
          "output_type": "display_data",
          "data": {
            "application/javascript": [
              "\n",
              "    async function download(id, filename, size) {\n",
              "      if (!google.colab.kernel.accessAllowed) {\n",
              "        return;\n",
              "      }\n",
              "      const div = document.createElement('div');\n",
              "      const label = document.createElement('label');\n",
              "      label.textContent = `Downloading \"${filename}\": `;\n",
              "      div.appendChild(label);\n",
              "      const progress = document.createElement('progress');\n",
              "      progress.max = size;\n",
              "      div.appendChild(progress);\n",
              "      document.body.appendChild(div);\n",
              "\n",
              "      const buffers = [];\n",
              "      let downloaded = 0;\n",
              "\n",
              "      const channel = await google.colab.kernel.comms.open(id);\n",
              "      // Send a message to notify the kernel that we're ready.\n",
              "      channel.send({})\n",
              "\n",
              "      for await (const message of channel.messages) {\n",
              "        // Send a message to notify the kernel that we're ready.\n",
              "        channel.send({})\n",
              "        if (message.buffers) {\n",
              "          for (const buffer of message.buffers) {\n",
              "            buffers.push(buffer);\n",
              "            downloaded += buffer.byteLength;\n",
              "            progress.value = downloaded;\n",
              "          }\n",
              "        }\n",
              "      }\n",
              "      const blob = new Blob(buffers, {type: 'application/binary'});\n",
              "      const a = document.createElement('a');\n",
              "      a.href = window.URL.createObjectURL(blob);\n",
              "      a.download = filename;\n",
              "      div.appendChild(a);\n",
              "      a.click();\n",
              "      div.remove();\n",
              "    }\n",
              "  "
            ],
            "text/plain": [
              "<IPython.core.display.Javascript object>"
            ]
          },
          "metadata": {
            "tags": []
          }
        },
        {
          "output_type": "display_data",
          "data": {
            "application/javascript": [
              "download(\"download_8d220a63-c25b-4b41-96e9-431f707c7eef\", \"word_vocab_dict_v1.joblib\", 604500)"
            ],
            "text/plain": [
              "<IPython.core.display.Javascript object>"
            ]
          },
          "metadata": {
            "tags": []
          }
        }
      ]
    }
  ]
}